{
 "cells": [
  {
   "cell_type": "markdown",
   "metadata": {},
   "source": [
    "# 조건문 (If 문)"
   ]
  },
  {
   "cell_type": "markdown",
   "metadata": {},
   "source": [
    "```\n",
    "조건문: 조건을 판단하여 조건에 맞는 상황을 수행하는데에 사용 되는 것\n",
    "예 >  \"돈이 있으면 외식을 하고, 돈이 없으면 집에서 밥을 먹는다.\"\n",
    "```\n",
    "\n",
    "### 조건문의 기본 구조\n",
    "\n",
    "```\n",
    "if 조건1 :\n",
    "    수행 할 문장\n",
    "elif 조건2 : \n",
    "    수행 할 문장\n",
    "else :\n",
    "    수행 할 문장\n",
    "    \n",
    "- 들여쓰기(indentation) 에 주의 할 것 \n",
    "\n",
    ">>> money = 1 # money에 입력된 1은 참!\n",
    ">>> if money :\n",
    "...     print (\"외식을 한다\")\n",
    "... else:\n",
    "...     print (\"집에서 밥을 먹는다\")\n",
    "```\n"
   ]
  },
  {
   "cell_type": "code",
   "execution_count": null,
   "metadata": {},
   "outputs": [],
   "source": []
  },
  {
   "cell_type": "markdown",
   "metadata": {},
   "source": [
    "## 조건문\n",
    "### 자료형의 참과 거짓 (remind 04)\n",
    "\n",
    "```\n",
    "문자열\n",
    "True : \"Boolean\"\n",
    "False : \"\"\n",
    "\n",
    "리스트, 튜플, 딕셔너리\n",
    "True : [1,2,3], (1, 2, 3), {\"name\": \"goni\"}\n",
    "False : [], (), {}\n",
    "\n",
    "숫자\n",
    "True : 0이 아닌 숫자\n",
    "False : 0\n",
    "```\n",
    "\n",
    "\n",
    "### 비교 연산자\n",
    "```\n",
    "x < y\n",
    "x > y\n",
    "x == y\n",
    "x != y\n",
    "x >= y\n",
    "x <= y\n",
    "\n",
    "\n",
    "예 >  \"돈이 10,000원 이상 있으면 외식을 하고, 아니면 집에서 밥을 먹는다.\"\n",
    "\n",
    ">>> money = \n",
    ">>> if 조건 :\n",
    "...     print (\"외식을 한다\")\n",
    "... else:\n",
    "...     print (\"집에서 밥을 먹는다\")\n",
    "```"
   ]
  },
  {
   "cell_type": "code",
   "execution_count": null,
   "metadata": {
    "collapsed": true
   },
   "outputs": [],
   "source": []
  },
  {
   "cell_type": "markdown",
   "metadata": {},
   "source": [
    "### and, or, not\n",
    "```\n",
    "x or y : x와 y 둘 중에 하나만 참이면 참\n",
    "x and y : x와 y 모두 참이어야 참\n",
    "not x : x가 거짓이면 참\n",
    "\n",
    "예 > \"돈이 10,000원 이상 있거나 카드가 있으면 외식을 하고, 아니면 집에서 밥을 먹는다.\"\n",
    "\n",
    ">>> money = 5000\n",
    ">>> card = 1\n",
    ">>> if 조건 :\n",
    "...     print (\"외식을 한다\")\n",
    "... else:\n",
    "...     print (\"집에서 밥을 먹는다\")\n",
    "```"
   ]
  },
  {
   "cell_type": "code",
   "execution_count": null,
   "metadata": {
    "collapsed": true
   },
   "outputs": [],
   "source": []
  },
  {
   "cell_type": "markdown",
   "metadata": {
    "collapsed": true
   },
   "source": [
    "### x in s, x not in s\n",
    "```\n",
    "x in 리스트 / x not in 리스트\n",
    "x in 튜플 / x not in 튜플\n",
    "x in 문자열 / x not in 문자열\n",
    "\n",
    ">>> 1 in [1, 2, 3] # [1, 2, 3]이라는 리스트 안에 1이 있는가?\n",
    ">>> 1 not in [1, 2, 3] # [1, 2, 3]이라는 리스트 안에 1이 없는가?\n",
    ">>> 'a' in ('a', 'b', 'c') \n",
    ">>> 'j' not in 'python'\n",
    "\n",
    "예> 주머니에 돈이 있으면 외식을 하고, 아니면 집에서 밥을 먹는다\n",
    ">>> pocket = ['paper', 'cellphone', 'money']\n",
    ">>> if 조건 :\n",
    "...     print (\"외식을 한다\")\n",
    "... else:\n",
    "...     print (\"집에서 밥을 먹는다\")\n",
    "\n",
    "```"
   ]
  },
  {
   "cell_type": "code",
   "execution_count": null,
   "metadata": {
    "collapsed": true
   },
   "outputs": [],
   "source": []
  },
  {
   "cell_type": "markdown",
   "metadata": {},
   "source": [
    "### pass 명령어\n",
    "```\n",
    "아무런 명령도 수행하지 않고 싶을 때 사용하는 명령어\n",
    "예> 주머니에 돈이 있으면 가만히 있고 주머니에 돈이 없으면 카드를 꺼내라\n",
    ">>> pocket = ['paper', 'cellphone', 'money']\n",
    ">>> if 'money' in pocket :\n",
    "...     pass\n",
    "... else:\n",
    "...     print (\"집에서 밥을 먹는다\")\n",
    "```"
   ]
  },
  {
   "cell_type": "code",
   "execution_count": null,
   "metadata": {
    "collapsed": true
   },
   "outputs": [],
   "source": []
  },
  {
   "cell_type": "markdown",
   "metadata": {},
   "source": [
    "## 조건을 여러개 판단하고 싶으면 elif\n",
    "```\n",
    "예> 주머니에 돈이 있으면 외식을 하고, 주머니에 돈은 없지만 카드가 있으면 외식을 하고, 돈도 없고 카드도 없으면 집에서 밥을 먹자.\n",
    "\n",
    "판단해야 할 조건이 2개 있다.\n",
    "1.\n",
    "2. \n",
    "\n",
    "\n",
    "if와 else만으로 코딩해 본다면?\n",
    "\n",
    ">>> pocket = ['paper', 'handphone']\n",
    ">>> card = 1\n",
    ">>> if 'money' in pocket:\n",
    "...     print(\"외식을 한다\")\n",
    "... else:\n",
    "...     if card:\n",
    "...         print(\"외식을 한다\")\n",
    "...     else:\n",
    "...         print(\"집에서 밥을 먹는다\")\n",
    "```"
   ]
  },
  {
   "cell_type": "code",
   "execution_count": null,
   "metadata": {
    "collapsed": true
   },
   "outputs": [],
   "source": []
  },
  {
   "cell_type": "markdown",
   "metadata": {},
   "source": [
    "```\n",
    "복잡함을 해결하기 위하여 다중 조건 판단을 가능하게 하는 elif 를 사용해봅니다\n",
    "\n",
    ">>> pocket = ['paper', 'cellphone']\n",
    ">>> card = 1\n",
    ">>> if 'money' in pocket:\n",
    "...      print(\"외식을 한다\")\n",
    "... elif card: \n",
    "...      print(\"외식을 한다\")\n",
    "... else:\n",
    "...      print(\"집에서 밥을 먹는다\")\n",
    "```"
   ]
  },
  {
   "cell_type": "code",
   "execution_count": null,
   "metadata": {
    "collapsed": true
   },
   "outputs": [],
   "source": []
  },
  {
   "cell_type": "markdown",
   "metadata": {},
   "source": [
    "## 조건부 표현식\n",
    "\n",
    "```\n",
    "예 > score가 60 이상일 경우 message 에 'success를 아닐 경우에는 'failure'를 대입\n",
    "\n",
    "if, else를 사용해서 코딩해보세요\n",
    "\n",
    "\n",
    "```"
   ]
  },
  {
   "cell_type": "code",
   "execution_count": 4,
   "metadata": {
    "collapsed": true
   },
   "outputs": [],
   "source": []
  },
  {
   "cell_type": "markdown",
   "metadata": {},
   "source": [
    "```\n",
    "조건문이_참인_경우 if 조건문 else 조건문이_거짓인_경우\n",
    "\n",
    ">>> score = 70\n",
    ">>> message = \"success\" if score >= 60 else \"failure\"\n",
    ">>> print (message)\n",
    "```"
   ]
  },
  {
   "cell_type": "code",
   "execution_count": null,
   "metadata": {},
   "outputs": [],
   "source": []
  },
  {
   "cell_type": "markdown",
   "metadata": {},
   "source": [
    "# 마무리\n",
    "### 1. 행운권 추첨\n",
    "```\n",
    "고니의 행운권 번호는 23번입니다.\n",
    "행운권 당첨 번호 리스트는 아래와 같습니다.\n",
    ">>> lucky_lisf = [1, 9, 23, 46]\n",
    "고니가 당첨 되었다면 \"오예!\" 라는 문자열을 출력하는 코드를 작성해보세요.\n",
    "```"
   ]
  },
  {
   "cell_type": "code",
   "execution_count": null,
   "metadata": {
    "collapsed": true
   },
   "outputs": [],
   "source": []
  },
  {
   "cell_type": "markdown",
   "metadata": {},
   "source": [
    "### 2. 홀수 짝수 판별\n",
    "```\n",
    "주어진 수가 짝수인지 홀수인지 판별하는 코드를 작성해보세요.\n",
    "```"
   ]
  },
  {
   "cell_type": "code",
   "execution_count": null,
   "metadata": {
    "collapsed": true
   },
   "outputs": [],
   "source": []
  },
  {
   "cell_type": "markdown",
   "metadata": {},
   "source": [
    "### 3. 문자열 분석\n",
    "```\n",
    "나이:31,키:180\n",
    "문자열을 분석하여 나이가 30 이상이고 키가 175 이상이면 YES를 출력하고 아니면 NO를 출력하는 코드를 작성해보세요\n",
    "\n",
    "힌트: \n",
    "a = \"나이:31,키:180\"\n",
    "문자열을 먼저 쉼표로 나누고 나뉜 문자열을 다시 콜론(:)으로 나눕니다. split 함수\n",
    "문자열을 숫자로 바꾸어서 비교합니다. int(문자열)\n",
    "\n",
    "```"
   ]
  },
  {
   "cell_type": "code",
   "execution_count": null,
   "metadata": {
    "collapsed": true
   },
   "outputs": [],
   "source": []
  }
 ],
 "metadata": {
  "kernelspec": {
   "display_name": "Python 3",
   "language": "python",
   "name": "python3"
  },
  "language_info": {
   "codemirror_mode": {
    "name": "ipython",
    "version": 3
   },
   "file_extension": ".py",
   "mimetype": "text/x-python",
   "name": "python",
   "nbconvert_exporter": "python",
   "pygments_lexer": "ipython3",
   "version": "3.6.2"
  }
 },
 "nbformat": 4,
 "nbformat_minor": 2
}
