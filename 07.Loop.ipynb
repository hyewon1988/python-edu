{
 "cells": [
  {
   "cell_type": "markdown",
   "metadata": {},
   "source": [
    "# 반복문 (While)"
   ]
  },
  {
   "cell_type": "markdown",
   "metadata": {},
   "source": [
    "## While문의 기본 구조\n",
    "```\n",
    "while 조건 :\n",
    "    수행 할 문장\n",
    "    \n",
    "조건이 True 인 동안 while 문 아래에 속하는 문장들을 수행 함\n",
    "\n",
    "예 > 10번 찍어 안 넘어가는 고니 없다.\n",
    "\n",
    ">>> hit = 0\n",
    ">>> while hit < 10 :\n",
    "        hit = hit + 1 # hit += 1\n",
    "        print (\"고니를 %d 번 찍었습니다\" % hit)\n",
    "        \n",
    "        if hit == 10:\n",
    "            print (\"넘어간 고니\")\n",
    "            \n",
    "```"
   ]
  },
  {
   "cell_type": "code",
   "execution_count": null,
   "metadata": {
    "collapsed": true
   },
   "outputs": [],
   "source": []
  },
  {
   "cell_type": "markdown",
   "metadata": {},
   "source": [
    "## 계산기(st) 만들기\n",
    "```\n",
    "사칙연산 중 하나를 선택해서 입력 받는 예제\n",
    "5를 입력 받으면 즉시 종료 시킴\n",
    "\n",
    "prompt = \"\"\"\n",
    "1. 더하기\n",
    "2. 빼기\n",
    "3. 곱하기\n",
    "4. 나누기\n",
    "5. 종료하기\n",
    "\n",
    "Enter number: \"\"\"\n",
    "\n",
    ">>> number = 0\n",
    ">>> while number != 5:\n",
    "        print (prompt)\n",
    "        number = int(input())\n",
    "```"
   ]
  },
  {
   "cell_type": "code",
   "execution_count": null,
   "metadata": {},
   "outputs": [],
   "source": []
  },
  {
   "cell_type": "markdown",
   "metadata": {},
   "source": [
    "## 커피 자판기 만들기\n",
    "```\n",
    "<커피 자판기>\n",
    "1. 자판기 안에 커피가 충분히 있을 때에는 동전을 넣으면 커피가 나온다.\n",
    "2. 커피가 다 떨어졌다면 판매를 중단하고 \"판매 중지\"라는 문구를 보여준다.\n",
    "\n",
    "\n",
    ">>> money = 300\n",
    ">>> coffee = 10\n",
    ">>> while money :\n",
    "        print (\"커피를 드립니다\")\n",
    "        coffee = coffee - 1\n",
    "        print (\"남은 커피의 양은 %d개 입니다.\" % coffee)\n",
    "        if not coffee : # if coffee == 0 :\n",
    "            print (\"커피가 다 떨어졌습니다. 판매를 중지합니다\")\n",
    "            break\n",
    "```"
   ]
  },
  {
   "cell_type": "code",
   "execution_count": null,
   "metadata": {
    "collapsed": true
   },
   "outputs": [],
   "source": []
  },
  {
   "cell_type": "markdown",
   "metadata": {
    "scrolled": true
   },
   "source": [
    "```\n",
    "<좀 더 그럴듯한 커피 자판기>\n",
    "1. 돈을 입력 받는다\n",
    "2. 돈이 -1 이면 즉시 종료한다.\n",
    "3. 돈이 커피 값과 같으면 커피를 준다.\n",
    "4. 돈이 커피 값 보다 많이 들어오면 거스름돈을 주고 커피를 준다.\n",
    "5. 돈이 커피 값 보다 적으면 돈을 돌려주고 커피를 주지 않는다.\n",
    "6. 커피가 다 떨어졌으면 판매 중지한다.\n",
    "\n",
    ">>> coffee = 10\n",
    ">>> while True:\n",
    "        money = int(input(\"돈을 넣어 주세요: \"))\n",
    "        if money == -1:\n",
    "            break\n",
    "        elif money == 300:\n",
    "            print(\"커피를 줍니다.\")\n",
    "            coffee = coffee -1\n",
    "        elif money > 300:\n",
    "            print(\"거스름돈 %d를 주고 커피를 줍니다.\" % (money -300))\n",
    "            coffee = coffee - 1\n",
    "        else:\n",
    "            print(\"돈을 다시 돌려주고 커피를 주지 않습니다.\")\n",
    "            print(\"남은 커피의 양은 %d개 입니다.\" % coffee)\n",
    "        if not coffee:\n",
    "            print(\"커피가 다 떨어졌습니다. 판매를 중지 합니다.\")\n",
    "            break\n",
    "\n",
    "```\n",
    "\n"
   ]
  },
  {
   "cell_type": "markdown",
   "metadata": {
    "collapsed": true
   },
   "source": []
  },
  {
   "cell_type": "markdown",
   "metadata": {},
   "source": [
    "## 홀수 출력하기 (continue사용하기)\n",
    "```\n",
    "예 > while문을 이용해서 1부터 10까지의 숫자 중에서 짝수만 출력해보는 것\n",
    "1. num = 0 초기화\n",
    "2. num 을 1씩 증가시키면서 num이 10보다 작을 때 까지 while문을 수행하면서 print (num)\n",
    "3. num이 짝수일 때는 print (num)을 하지 않는다\n",
    "\n",
    ">>> num = 0\n",
    ">>> while num < 10 :\n",
    "        num = num + 1\n",
    "        if num % 2 == 0:\n",
    "            continue\n",
    "        print (num)\n",
    "```"
   ]
  },
  {
   "cell_type": "code",
   "execution_count": null,
   "metadata": {
    "collapsed": true
   },
   "outputs": [],
   "source": []
  },
  {
   "cell_type": "markdown",
   "metadata": {},
   "source": [
    "# 반복문 (for)"
   ]
  },
  {
   "cell_type": "markdown",
   "metadata": {},
   "source": [
    "## for문의 기본 구조\n",
    "```\n",
    "리스트, 튜플, 문자열의 첫 번째 요소부터 마지막 요소까지 차례로 변수에 대입 되어 문장이 수행된다.\n",
    "\n",
    "for 변수 in 리스트, 튜플, 문자열:\n",
    "    수행할 문장\n",
    "```\n",
    "\n",
    "### 1\n",
    "```\n",
    "리스트의 요소가 차례로 변수 i에 대입\n",
    ">>> list = ['one', 'two', 'three']\n",
    ">>> for i in list:\n",
    "        print (i)\n",
    "```"
   ]
  },
  {
   "cell_type": "code",
   "execution_count": null,
   "metadata": {
    "collapsed": true
   },
   "outputs": [],
   "source": []
  },
  {
   "cell_type": "markdown",
   "metadata": {},
   "source": [
    "### 2\n",
    "```\n",
    "튜플의 리스트\n",
    "튜플의 값들이 자동으로 변수에 대입 됨\n",
    ">>> a = [(1,2), (3,4), (5,6)]\n",
    ">>> for (first, last) in a:\n",
    "...     print(first + last)\n",
    "```"
   ]
  },
  {
   "cell_type": "code",
   "execution_count": null,
   "metadata": {},
   "outputs": [],
   "source": []
  },
  {
   "cell_type": "markdown",
   "metadata": {},
   "source": [
    "### 3\n",
    "```\n",
    "\"총 5명의 학생이 시험을 보았는데 시험 점수가 60점이 넘으면 합격이고 그렇지 않으면 불합격이다. 합격인지 불합격인지 결과를 보여주시오.\"\n",
    "\n",
    ">>> marks = [90, 25, 67, 45, 80]\n",
    ">>> number = 0\n",
    ">>> for mark in marks:\n",
    "        number = number + 1\n",
    "        if mark >= 60: \n",
    "            print(\"%d번 학생은 합격입니다.\" % number)\n",
    "        else: \n",
    "            print(\"%d번 학생은 불합격입니다.\" % number)\n",
    "            \n",
    "```"
   ]
  },
  {
   "cell_type": "code",
   "execution_count": null,
   "metadata": {
    "collapsed": true
   },
   "outputs": [],
   "source": []
  },
  {
   "cell_type": "markdown",
   "metadata": {},
   "source": [
    "## for문과 continue\n",
    "```\n",
    "for문 안의 문장을 수행하는 도중에 continue를 만나면 for문의 처음으로 돌아간다\n",
    "\n",
    "\"총 5명의 학생이 시험을 보았는데 시험 점수가 60점이 넘으면 축하 메세지를 보내주고 나머지 사람에게는 아무런 메시지도 전하지 않겠습니다.\"\n",
    "\n",
    ">>> marks = [90, 25, 67, 45, 80]\n",
    ">>> number = 0\n",
    ">>> for mark in marks:\n",
    "        number = number + 1\n",
    "        if mark < 60: \n",
    "            continue\n",
    "        print(\"%d번 학생 축하합니다. 합격입니다. \" % number)\n",
    "\n",
    "```"
   ]
  },
  {
   "cell_type": "code",
   "execution_count": null,
   "metadata": {
    "collapsed": true
   },
   "outputs": [],
   "source": []
  },
  {
   "cell_type": "markdown",
   "metadata": {},
   "source": [
    "## for문과 함께 자주 사용되는 range 함수\n",
    "```\n",
    "range : 숫자 리스트를 만들어주는 함수\n",
    ">>> a = range(10) # 0부터 10 미만 \n",
    ">>> b = range (1, 10) # 1부터 10 미만\n",
    "\n",
    ">>> sum = 0\n",
    ">>> for i in range(1, 11):\n",
    "        sum = sum + 1\n",
    "      \n",
    "print (sum)\n",
    "```"
   ]
  },
  {
   "cell_type": "code",
   "execution_count": null,
   "metadata": {
    "collapsed": true
   },
   "outputs": [],
   "source": []
  },
  {
   "cell_type": "markdown",
   "metadata": {},
   "source": [
    "## for, range를 이용한 구구단\n",
    "```\n",
    "2x1 = 2\n",
    "2x2 = 4\n",
    "...\n",
    "2x9 = 18\n",
    "\n",
    "3x1 = 3\n",
    "3x2 = 6\n",
    "...\n",
    "3x9 = 27\n",
    "...\n",
    "9x1 = 9\n",
    "9x2 = 18\n",
    "...\n",
    "9x9 = 81\n",
    "\n",
    ">>> for i in range(2, 10):\n",
    "        for j in range(1, 10):\n",
    "            print (\"%dx%d = %d\" % (i, j, i*j))\n",
    "        print('')\n",
    "\n",
    "```"
   ]
  },
  {
   "cell_type": "code",
   "execution_count": null,
   "metadata": {},
   "outputs": [],
   "source": []
  },
  {
   "cell_type": "markdown",
   "metadata": {},
   "source": [
    "## 리스트 안에 for문 포함하기 (List Comprehension)\n",
    "```\n",
    "예 > a라는 리스트의 각 항목에 3을 곱한 결과를 result라는 리스트에 담는다\n",
    ">>> a = [1,2,3,4]\n",
    ">>> result = []\n",
    ">>> for num in a:\n",
    "...     result.append(num*3)\n",
    "...\n",
    ">>> print(result)\n",
    "\n",
    "\n",
    "\n",
    "List Comprehension 사용\n",
    ">>> result = [num * 3 for num in a]\n",
    ">>> print(result)\n",
    "\n",
    "\n",
    "짝수에만 3을 곱하여서 담고 싶다면?\n",
    ">>> result = [num * 3 for num in a if num % 2 == 0]\n",
    ">>> print(result)\n",
    "\n",
    "\n",
    "** [표현식 for 항목 in 반복가능객체 if 조건] **\n",
    "\n",
    "```"
   ]
  },
  {
   "cell_type": "code",
   "execution_count": null,
   "metadata": {
    "collapsed": true
   },
   "outputs": [],
   "source": []
  },
  {
   "cell_type": "markdown",
   "metadata": {},
   "source": [
    "```\n",
    "for문을 2개 이상 사용하는 것도 가능함\n",
    "\n",
    "[표현식 for 항목1 in 반복가능객체1 if 조건1\n",
    "        for 항목2 in 반복가능객체2 if 조건2\n",
    "        ...\n",
    "        for 항목n in 반복가능객체n if 조건n]\n",
    "        \n",
    "예 > 구구단의 모든 결과를 리스트에 담고 싶다면?\n",
    "\n",
    ">>> result = [x*y for x in range(2,10)\n",
    "...               for y in range(1,10)]\n",
    ">>> print(result)\n",
    "\n",
    "```"
   ]
  },
  {
   "cell_type": "code",
   "execution_count": null,
   "metadata": {
    "collapsed": true
   },
   "outputs": [],
   "source": []
  },
  {
   "cell_type": "markdown",
   "metadata": {},
   "source": [
    "# 마무리\n",
    "### 1. whlie문을 사용해서 1부터 100까지 더해보세요"
   ]
  },
  {
   "cell_type": "code",
   "execution_count": null,
   "metadata": {
    "collapsed": true
   },
   "outputs": [],
   "source": []
  },
  {
   "cell_type": "markdown",
   "metadata": {},
   "source": [
    "### 2. for문을 이용하여 A 학급의 평균 점수를 구해보세요\n",
    "```\n",
    "A = [70, 60, 55, 75, 95, 90, 80, 80, 85, 100]\n",
    "```"
   ]
  },
  {
   "cell_type": "code",
   "execution_count": null,
   "metadata": {
    "collapsed": true
   },
   "outputs": [],
   "source": []
  },
  {
   "cell_type": "markdown",
   "metadata": {},
   "source": [
    "### 3. List Comprehension을  이용하여 sentence에서 모음('aeiou')을 제거하세요\n",
    "```\n",
    ">>> vowels = 'aeiou'\n",
    ">>> sentence = 'Life is too short, you need python'\n",
    "\n",
    "결과 : 'Lf s t shrt, y nd pythn'\n",
    "\n",
    "(힌트 : ''.join(['a','e', 'i', 'o', 'u'] --> 'aeiou')\n",
    "```\n"
   ]
  },
  {
   "cell_type": "code",
   "execution_count": null,
   "metadata": {},
   "outputs": [],
   "source": []
  }
 ],
 "metadata": {
  "kernelspec": {
   "display_name": "Python 3",
   "language": "python",
   "name": "python3"
  }
 },
 "nbformat": 4,
 "nbformat_minor": 2
}
