{
 "cells": [
  {
   "cell_type": "markdown",
   "metadata": {},
   "source": [
    "# Number (숫자 자료형)"
   ]
  },
  {
   "cell_type": "markdown",
   "metadata": {},
   "source": [
    "기본적인 사칙 연산\n",
    "\n",
    "### 1. 덧셈\n",
    "5 + 6 \n",
    "\n",
    "------------------------------\n",
    "\n",
    "11"
   ]
  },
  {
   "cell_type": "code",
   "execution_count": null,
   "metadata": {
    "collapsed": true
   },
   "outputs": [],
   "source": [
    "print ()"
   ]
  },
  {
   "cell_type": "markdown",
   "metadata": {},
   "source": [
    "### 2. 뺄셈\n",
    "5 - 2\n",
    "\n",
    "------------------------------\n",
    "\n",
    "3"
   ]
  },
  {
   "cell_type": "code",
   "execution_count": null,
   "metadata": {
    "collapsed": true
   },
   "outputs": [],
   "source": [
    "print ()"
   ]
  },
  {
   "cell_type": "markdown",
   "metadata": {},
   "source": [
    "### 3. 곱하기\n",
    "3 * 8\n",
    "\n",
    "----------\n",
    "\n",
    "24"
   ]
  },
  {
   "cell_type": "code",
   "execution_count": null,
   "metadata": {
    "collapsed": true
   },
   "outputs": [],
   "source": [
    "print ()"
   ]
  },
  {
   "cell_type": "markdown",
   "metadata": {},
   "source": [
    "### 4. 제곱\n",
    "\n",
    "3의 세제곱\n",
    "\n",
    "2의 네제곱\n",
    "\n",
    "2의 10승\n",
    "\n",
    "------------------------------\n",
    "\n",
    "27\n",
    "\n",
    "16\n",
    "\n",
    "1024"
   ]
  },
  {
   "cell_type": "code",
   "execution_count": null,
   "metadata": {
    "collapsed": true
   },
   "outputs": [],
   "source": [
    "print ()\n",
    "print ()\n",
    "print ()"
   ]
  },
  {
   "cell_type": "markdown",
   "metadata": {},
   "source": [
    "### 5. 나누기\n",
    "7 / 2 (float 형)\n",
    "\n",
    "7 / 2 의 몫 (int 형)\n",
    "\n",
    "7 / 2 의 나머지\n",
    "\n",
    "------------------------------\n",
    "\n",
    "3.5\n",
    "\n",
    "3\n",
    "\n",
    "1"
   ]
  },
  {
   "cell_type": "code",
   "execution_count": null,
   "metadata": {
    "collapsed": true
   },
   "outputs": [],
   "source": [
    "print ()\n",
    "print ()\n",
    "print ()"
   ]
  },
  {
   "cell_type": "markdown",
   "metadata": {},
   "source": [
    "# String (문자열 자료형)\n",
    "\n",
    "### 1. 문자열 출력\n",
    "\n",
    "Hello World"
   ]
  },
  {
   "cell_type": "code",
   "execution_count": null,
   "metadata": {
    "collapsed": true
   },
   "outputs": [],
   "source": [
    "str = \"Hello World\"\n",
    "print ()"
   ]
  },
  {
   "cell_type": "markdown",
   "metadata": {},
   "source": [
    "### 2. 문자열 출력 2\n",
    "\n",
    "I don't like python\n",
    "\n",
    "I don't like python\n",
    "\n",
    "I don\\'t like python"
   ]
  },
  {
   "cell_type": "code",
   "execution_count": null,
   "metadata": {
    "collapsed": true
   },
   "outputs": [],
   "source": [
    "print (\"\")\n",
    "print ('')\n",
    "print (\"\")"
   ]
  },
  {
   "cell_type": "markdown",
   "metadata": {},
   "source": [
    "### 3. Slicing\n",
    "\n",
    "test_str = 'Python'\n",
    "\n",
    "------------------------------\n",
    "P\n",
    "\n",
    "y\n",
    "\n",
    "n\n",
    "\n",
    "o"
   ]
  },
  {
   "cell_type": "code",
   "execution_count": null,
   "metadata": {
    "collapsed": true
   },
   "outputs": [],
   "source": [
    "test_str = 'Python'\n",
    "print(test_str[])\n",
    "print(test_str[])\n",
    "print(test_str[])\n",
    "print(test_str[])"
   ]
  },
  {
   "cell_type": "markdown",
   "metadata": {},
   "source": [
    "test_str='qwertyuiop[];lkjhgfdsazxcvbnm,./1029384756=-'\n",
    "\n",
    "------------------------------\n",
    "\n",
    "q\n",
    "\n",
    "w\n",
    "\n",
    "-\n",
    "\n",
    "="
   ]
  },
  {
   "cell_type": "code",
   "execution_count": null,
   "metadata": {
    "collapsed": true
   },
   "outputs": [],
   "source": [
    "test_str='qwertyuiop[];lkjhgfdsazxcvbnm,./1029384756=-'\n",
    "print(test_str[])\n",
    "print(test_str[])\n",
    "print(test_str[])\n",
    "print(test_str[])"
   ]
  },
  {
   "cell_type": "code",
   "execution_count": null,
   "metadata": {
    "collapsed": true
   },
   "outputs": [],
   "source": [
    "print (test_str[1:3])\n",
    "print (test_str[1:])"
   ]
  },
  {
   "cell_type": "markdown",
   "metadata": {},
   "source": [
    "# if, elif, else (조건문)\n",
    "\n",
    "if 조건문:\n",
    "\n",
    "    코드\n",
    "   \n",
    "elif 조건문2:\n",
    "\n",
    "    코드\n",
    "    \n",
    "else:\n",
    "\n",
    "    코드\n",
    "\n",
    "------------------------------\n",
    "\n",
    "1. N을 입력 받아서\n",
    "\n",
    "2. N이 짝수인지 홀수인지 출력"
   ]
  },
  {
   "cell_type": "code",
   "execution_count": null,
   "metadata": {
    "collapsed": true
   },
   "outputs": [],
   "source": [
    "N = input(\"N을 입력하세요\")\n",
    "N = int (N)\n",
    "\n",
    "if :\n",
    "    print (\"N은 0 입니다\")\n",
    "elif :\n",
    "    print (\"N은 짝수 입니다.\")\n",
    "else:\n",
    "    print (\"N은 홀수 입니다.\")"
   ]
  },
  {
   "cell_type": "markdown",
   "metadata": {},
   "source": [
    "1. name을 입력 받아서\n",
    "2. name 이 'goeun'이면 'Hi goni!' 출력\n",
    "3. name 이 'goeun'이 아니면 'Hi everyone!' 출력"
   ]
  },
  {
   "cell_type": "code",
   "execution_count": null,
   "metadata": {
    "collapsed": true
   },
   "outputs": [],
   "source": [
    "name "
   ]
  },
  {
   "cell_type": "markdown",
   "metadata": {},
   "source": [
    "# 반복문\n",
    "\n",
    "## while\n",
    "\n",
    "while 조건:\n",
    "\n",
    "    코드\n",
    "\n",
    "## for\n",
    "\n",
    "for [element] in [collection]:\n",
    "\n",
    "    코드\n",
    "\n",
    "## break/ continue\n",
    "\n",
    "continue: 다음 루프로 이동\n",
    "\n",
    "break: 반복문에서 탈출\n",
    "\n",
    "\n",
    "------------------------------\n",
    "\n",
    "1부터 10까지 더하기 (While)"
   ]
  },
  {
   "cell_type": "code",
   "execution_count": 62,
   "metadata": {},
   "outputs": [
    {
     "name": "stdout",
     "output_type": "stream",
     "text": [
      "55\n"
     ]
    }
   ],
   "source": [
    "i = 1\n",
    "sum = 0\n",
    "while i <= 10:\n",
    "    sum += i\n",
    "    i = i + 1\n",
    "print (sum)"
   ]
  },
  {
   "cell_type": "markdown",
   "metadata": {},
   "source": [
    "1부터 10까지 더하기 (For)"
   ]
  },
  {
   "cell_type": "code",
   "execution_count": 63,
   "metadata": {},
   "outputs": [
    {
     "name": "stdout",
     "output_type": "stream",
     "text": [
      "55\n"
     ]
    }
   ],
   "source": [
    "sum = 0\n",
    "for i in range():\n",
    "    sum += i\n",
    "print (sum)"
   ]
  },
  {
   "cell_type": "markdown",
   "metadata": {},
   "source": [
    "1부터 10까지 더하는데 7은 안 더하고 싶다 (break와 continue를 사용해서)"
   ]
  },
  {
   "cell_type": "code",
   "execution_count": 3,
   "metadata": {},
   "outputs": [
    {
     "name": "stdout",
     "output_type": "stream",
     "text": [
      "48\n"
     ]
    }
   ],
   "source": [
    "i = 0\n",
    "sum = 0\n",
    "while True:\n",
    "    i += 1\n",
    "    if i == 7:\n",
    "        continue\n",
    "    elif i > 10:\n",
    "        break \n",
    "    sum += i\n",
    "    \n",
    "    \n",
    "    \n",
    "print (sum)"
   ]
  },
  {
   "cell_type": "markdown",
   "metadata": {},
   "source": [
    "# 마무리\n",
    "\n",
    "sentece = \"A friend in need is a friend indeed\" 에 'e'가 몇 번 나오는지 알려주세요"
   ]
  },
  {
   "cell_type": "code",
   "execution_count": 73,
   "metadata": {
    "collapsed": true
   },
   "outputs": [],
   "source": [
    "sentence = \"A friend in need is a friend indeed\""
   ]
  }
 ],
 "metadata": {
  "kernelspec": {
   "display_name": "Python 3",
   "language": "python",
   "name": "python3"
  },
  "language_info": {
   "codemirror_mode": {
    "name": "ipython",
    "version": 3
   },
   "file_extension": ".py",
   "mimetype": "text/x-python",
   "name": "python",
   "nbconvert_exporter": "python",
   "pygments_lexer": "ipython3",
   "version": "3.6.2"
  }
 },
 "nbformat": 4,
 "nbformat_minor": 2
}
