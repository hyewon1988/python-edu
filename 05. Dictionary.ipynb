{
 "cells": [
  {
   "cell_type": "markdown",
   "metadata": {},
   "source": [
    "# 딕셔너리 자료형"
   ]
  },
  {
   "cell_type": "markdown",
   "metadata": {},
   "source": [
    "```\n",
    "Key, Value를 한 쌍으로 갖는 자료형\n",
    "Key를 통해서 바로 Value를 얻는다. \n",
    "예) key = '이름', value =  '고니'\n",
    "\n",
    "{Key1:Value1, Key2:Value2, Key3:Value3 ...}\n",
    "Key:Value 여러개가 {}로 둘러 싸인 형태\n",
    "각 Key:Value 쌍은 쉼표로 구분\n",
    "Key는 변하지 않는 값, Value는 변하는 값, 변하지 않는 값 모두 사용 가능\n",
    "\n",
    ">>> dict = {'name': 'goni', 'age': 20}\n",
    ">>> a = {1:'one'} # Key로 숫자를 사용\n",
    ">>> b = {'numbers': [1,2,3,4]} # Value에 List 사용\n",
    ">>> c = {} #empty dictionary\n",
    "\n",
    "```"
   ]
  },
  {
   "cell_type": "code",
   "execution_count": null,
   "metadata": {},
   "outputs": [],
   "source": [
    "\n"
   ]
  },
  {
   "cell_type": "markdown",
   "metadata": {},
   "source": [
    "## 딕셔너리 쌍 추가, 삭제\n",
    "### 1. 딕셔너리 쌍 추가하기\n",
    "\n",
    "```\n",
    ">>> dict = {} #empty dictionary\n",
    ">>> dict[1] = 'one' # Key: 1, Value: 'one'\n",
    ">>> print (dict)\n",
    ">>> dict[2] = 'two'\n",
    ">>> print (dict)\n",
    ">>> dict[3] = ['three', 'san'] # Value에 List 사용\n",
    ">>> print (dict)\n",
    "```"
   ]
  },
  {
   "cell_type": "code",
   "execution_count": null,
   "metadata": {},
   "outputs": [],
   "source": []
  },
  {
   "cell_type": "markdown",
   "metadata": {},
   "source": [
    "### 2. 딕셔너리 요소 삭제하기\n",
    "```\n",
    ">>> print (dict)\n",
    ">>> del dict[1]\n",
    ">>> print (dict)\n",
    "```"
   ]
  },
  {
   "cell_type": "code",
   "execution_count": null,
   "metadata": {},
   "outputs": [],
   "source": []
  },
  {
   "cell_type": "markdown",
   "metadata": {},
   "source": [
    "## 딕셔너리 사용 방법\n",
    "### 딕셔너리에서 Key 사용해 Value 얻기\n",
    "```\n",
    ">>> stocks = {'YG': 'stockid-1', 'JYP' : 'stockid-2', 'SM' : 'stockid-3'}\n",
    ">>> yg = stocks['YG'] # Key가 'YG'인 Value를 반환\n",
    ">>> print (yg)\n",
    ">>> jyp = stocks['JYP']\n",
    ">>> print (jyp)\n",
    "```"
   ]
  },
  {
   "cell_type": "code",
   "execution_count": null,
   "metadata": {},
   "outputs": [],
   "source": []
  },
  {
   "cell_type": "markdown",
   "metadata": {},
   "source": [
    "```\n",
    "리스트, 튜플, 문자열 등은 '인덱싱'이나 '슬라이싱' 방법으로 값을 얻음\n",
    "딕셔너리는 'key'를 이용해서 값을 얻음 -> 딕셔너리변수[Key]\n",
    "\n",
    ">>> a = {1:'a', 2:'b'}\n",
    ">>> value1 = a[1] # 인덱싱 아님! a 딕셔너리에서 Key가 1인 value를 가져오는 중\n",
    ">>> print (value1)\n",
    ">>> value 2 = a[2]\n",
    ">>> print (value2)\n",
    "```"
   ]
  },
  {
   "cell_type": "code",
   "execution_count": null,
   "metadata": {},
   "outputs": [],
   "source": []
  },
  {
   "cell_type": "markdown",
   "metadata": {},
   "source": [
    "```\n",
    "value가 list이면?\n",
    ">>> dict = {1:['one', 'yi'] , 2: ['two', 'err'], 3: ['trhee', 'san']}\n",
    ">>> val2_ch = dict[2][1]\n",
    ">>> print (val2_ch)\n",
    ">>> dict[2][1] = 'er'\n",
    ">>> print (dict)\n",
    "```"
   ]
  },
  {
   "cell_type": "code",
   "execution_count": null,
   "metadata": {},
   "outputs": [],
   "source": []
  },
  {
   "cell_type": "markdown",
   "metadata": {},
   "source": [
    "### 딕셔너리 만들 때 주의 사항\n",
    "```\n",
    "1. Key는 중복 되어서는 안된다\n",
    "Key가 중복 된 경우 1개를 제외한 나머지 Key:Value 값은 모두 무시 된다. (어느 것이 무시되는지는 예측 할 수 없다.)\n",
    ">>> a = {1:'a', 1:'b'}\n",
    ">>> print (a) \n",
    "```"
   ]
  },
  {
   "cell_type": "code",
   "execution_count": null,
   "metadata": {},
   "outputs": [],
   "source": []
  },
  {
   "cell_type": "markdown",
   "metadata": {},
   "source": [
    "```\n",
    "2. Key에 List는 사용할 수 없다.\n",
    "Key는 값이 변하지 않는 자료형만 사용할 수 있다.\n",
    "\n",
    ">>> a = {[1,2] : 'hi'}\n",
    "```"
   ]
  },
  {
   "cell_type": "code",
   "execution_count": 22,
   "metadata": {},
   "outputs": [],
   "source": []
  },
  {
   "cell_type": "markdown",
   "metadata": {},
   "source": [
    "## 딕셔너리 관련 함수들\n",
    "### Key 리스트 만들기 (keys)\n",
    "```\n",
    ">>> dict = {1:['one', 'yi'] , 2: ['two', 'err'], 3: ['trhee', 'san']}\n",
    ">>> keys = dict.keys() \n",
    ">>> print (keys) # dict_keys 객체\n",
    "\n",
    ">>> for key in dict.keys(): #dict_keys는 리스트로 변환하지 않더라도 기본적인 반복구문을 실행할 수 있다.\n",
    "    print (key)\n",
    "\n",
    ">>> list(dict.keys()) #dict_keys객체를 리스트로 바꾸고 싶다면\n",
    "```"
   ]
  },
  {
   "cell_type": "code",
   "execution_count": null,
   "metadata": {},
   "outputs": [],
   "source": []
  },
  {
   "cell_type": "markdown",
   "metadata": {},
   "source": [
    "### Value 리스트 만들기 (values)\n",
    "```\n",
    ">>> dict = {1:['one', 'yi'] , 2: ['two', 'err'], 3: ['trhee', 'san']}\n",
    ">>> values = dict.values()\n",
    ">>> print (values)\n",
    "```"
   ]
  },
  {
   "cell_type": "code",
   "execution_count": null,
   "metadata": {},
   "outputs": [],
   "source": []
  },
  {
   "cell_type": "markdown",
   "metadata": {},
   "source": [
    "### Key, Value  쌍 얻기 (items)\n",
    "```\n",
    ">>> dict = {1:['one', 'yi'] , 2: ['two', 'err'], 3: ['trhee', 'san']}\n",
    ">>> items = dict.items()\n",
    ">>> print (items)\n",
    "```"
   ]
  },
  {
   "cell_type": "code",
   "execution_count": null,
   "metadata": {},
   "outputs": [],
   "source": []
  },
  {
   "cell_type": "markdown",
   "metadata": {},
   "source": [
    "### Key: Value 쌍 모두 지우기 (clear)\n",
    "```\n",
    "clear() 함수는 딕셔너리 안의 모든 요소들을 삭제한다\n",
    ">>> dict = {1:['one', 'yi'] , 2: ['two', 'err'], 3: ['trhee', 'san']}\n",
    ">>> dict.clear()\n",
    ">>> print (dict)\n",
    "```"
   ]
  },
  {
   "cell_type": "code",
   "execution_count": null,
   "metadata": {},
   "outputs": [],
   "source": []
  },
  {
   "cell_type": "markdown",
   "metadata": {},
   "source": [
    "### Key로 Value  얻기 (get)\n",
    "```\n",
    ">>> dict = {1:['one', 'yi'] , 2: ['two', 'err'], 3: ['trhee', 'san']}\n",
    ">>> value1 = dict.get(1) # dict[1]\n",
    ">>> print (value1)\n",
    "\n",
    ">>> value4 = dict.get(4) # dictionary에 없는 key값이 들어오면?\n",
    ">>> print (value4)\n",
    "\n",
    "# 딕셔너리 안에 찾으려는 key값이 없을 경우 미리 정해 둔 디폴트 값을 대신 가져오게 한다\n",
    "# get(key, 디폴트 값)\n",
    ">>> value4 = dict.get(4, 'no key')\n",
    ">>> print (value4)\n",
    "```"
   ]
  },
  {
   "cell_type": "code",
   "execution_count": null,
   "metadata": {},
   "outputs": [],
   "source": []
  },
  {
   "cell_type": "markdown",
   "metadata": {},
   "source": [
    "### 해당 Key가 딕셔너리 안에 있는지 조사하기 (in)\n",
    "```\n",
    ">>> dict = {1:['one', 'yi'] , 2: ['two', 'err'], 3: ['trhee', 'san']}\n",
    ">>> 4 in dict\n",
    "```"
   ]
  },
  {
   "cell_type": "code",
   "execution_count": null,
   "metadata": {},
   "outputs": [],
   "source": []
  },
  {
   "cell_type": "markdown",
   "metadata": {},
   "source": [
    "## 마무리"
   ]
  },
  {
   "cell_type": "markdown",
   "metadata": {},
   "source": [
    "### 1. 딕셔너리 만들기\n",
    "```\n",
    "아래 표를 dict라는 이름의 dictionary로 만드세요.\n",
    "    key , value\n",
    "'stock1', 10\n",
    "'stock2'. 20\n",
    "'stock3', 30\n",
    "\n",
    ">>> \n",
    "```"
   ]
  },
  {
   "cell_type": "code",
   "execution_count": null,
   "metadata": {},
   "outputs": [],
   "source": []
  },
  {
   "cell_type": "markdown",
   "metadata": {},
   "source": [
    "### 2. 딕셔너리 값 추출\n",
    "```\n",
    "1번에서 만든 dict 딕셔너리에서 값을 출력해보세요\n",
    "힌트 : values()\n",
    "```"
   ]
  },
  {
   "cell_type": "code",
   "execution_count": null,
   "metadata": {},
   "outputs": [],
   "source": []
  },
  {
   "cell_type": "markdown",
   "metadata": {},
   "source": [
    "### 3. 딕셔너리 최소 값\n",
    "```\n",
    "1번에서 만든 dict 딕셔너리의 value 중에서 최소 값을 출력하세요\n",
    "힌트 : min( ) \n",
    "```"
   ]
  },
  {
   "cell_type": "code",
   "execution_count": null,
   "metadata": {},
   "outputs": [],
   "source": []
  },
  {
   "cell_type": "markdown",
   "metadata": {},
   "source": [
    "### 4. 딕셔너리 값 확인 및 추가\n",
    "```\n",
    "1번에서 만든 dict 딕셔너리 key 중에 'stock4' 가 있는지 확인하고\n",
    "없다면 key: 'stock4', value: 40 을 추가해보세요\n",
    "```"
   ]
  },
  {
   "cell_type": "code",
   "execution_count": null,
   "metadata": {},
   "outputs": [],
   "source": []
  }
 ],
 "metadata": {
  "kernelspec": {
   "display_name": "Python 3",
   "language": "python",
   "name": "python3"
  },
  "language_info": {
   "codemirror_mode": {
    "name": "ipython",
    "version": 3
   },
   "file_extension": ".py",
   "mimetype": "text/x-python",
   "name": "python",
   "nbconvert_exporter": "python",
   "pygments_lexer": "ipython3",
   "version": "3.6.5"
  }
 },
 "nbformat": 4,
 "nbformat_minor": 2
}
