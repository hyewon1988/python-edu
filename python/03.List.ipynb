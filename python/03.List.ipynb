{
 "cells": [
  {
   "cell_type": "markdown",
   "metadata": {},
   "source": [
    "# List 자료형"
   ]
  },
  {
   "cell_type": "markdown",
   "metadata": {},
   "source": [
    "```\n",
    "List : 무언가의 모음 (Collection)\n",
    "리스트명 = [요소1, 요소2, 요소3, ...]\n",
    "\n",
    ">>> a = [ ] # 아무것도 포함하지 않은 비어 있는 리스트\n",
    ">>> a2 = list() # 비어있는 리스트\n",
    ">>> b = [1, 2, 3] # 숫자를 요소로 갖는 리스트\n",
    ">>> c = ['Life', 'is', 'too', 'short'] # 문자열을 요소로 갖는 리스트\n",
    ">>> d = [1, 2, 'Life', 'is'] # 숫자와 문자열을 요소로 갖는 리스트\n",
    ">>> e = [1, 2, ['Life', 'is']] # 리스트 자체를 요소 값으로 가질 수 있음\n",
    "\n",
    "```"
   ]
  },
  {
   "cell_type": "code",
   "execution_count": null,
   "metadata": {},
   "outputs": [],
   "source": []
  },
  {
   "cell_type": "markdown",
   "metadata": {},
   "source": [
    "# 리스트의 인덱싱과 슬라이싱\n",
    "### 1. 리스트의 인덱싱\n",
    "\n",
    "```\n",
    ">>> a = [1, 2, 3]\n",
    ">>> a[0] # a의 첫번째 요소\n",
    ">>> # a의 마지막 요소?\n",
    "```\n"
   ]
  },
  {
   "cell_type": "code",
   "execution_count": null,
   "metadata": {},
   "outputs": [],
   "source": []
  },
  {
   "cell_type": "markdown",
   "metadata": {},
   "source": [
    "```\n",
    ">>> a[0] + a[2] # 숫자니까 꺼내서 연산 할 수 있어요\n",
    "```"
   ]
  },
  {
   "cell_type": "code",
   "execution_count": null,
   "metadata": {},
   "outputs": [],
   "source": []
  },
  {
   "cell_type": "markdown",
   "metadata": {},
   "source": [
    "```\n",
    ">>> a = [1, 2, 3, ['a', 'b', 'c']]\n",
    ">>> a[1]\n",
    ">>> a[-1]\n",
    ">>> a[3]\n",
    ">>> # 'b'는 어떻게 꺼내올 수 있을까요?\n",
    "```"
   ]
  },
  {
   "cell_type": "code",
   "execution_count": null,
   "metadata": {},
   "outputs": [],
   "source": []
  },
  {
   "cell_type": "markdown",
   "metadata": {},
   "source": [
    "### 2. 리스트의 슬라이싱\n",
    "문자열의 슬라이싱과 동일한 방법\n",
    "```\n",
    ">>> a = [1, 2, 3, 4, 5]\n",
    ">>> b = a[:2]\n",
    ">>> c = a[2:]\n",
    "```"
   ]
  },
  {
   "cell_type": "code",
   "execution_count": null,
   "metadata": {},
   "outputs": [],
   "source": []
  },
  {
   "cell_type": "markdown",
   "metadata": {},
   "source": [
    "# 리스트 연산자\n",
    "### 1. 리스트 더하기 (+)\n",
    "\n",
    "```\n",
    ">>> a = [1, 2, 3]\n",
    ">>> b = [4, 5, 6]\n",
    ">>> a + b\n",
    "```"
   ]
  },
  {
   "cell_type": "code",
   "execution_count": null,
   "metadata": {},
   "outputs": [],
   "source": []
  },
  {
   "cell_type": "markdown",
   "metadata": {},
   "source": [
    "### 2. 리스트 반복하기 (*)\n",
    "\n",
    "```\n",
    ">>> a = [1, 2, 3]\n",
    ">>> a * 3\n",
    "```"
   ]
  },
  {
   "cell_type": "code",
   "execution_count": null,
   "metadata": {},
   "outputs": [],
   "source": []
  },
  {
   "cell_type": "markdown",
   "metadata": {},
   "source": [
    "# 리스트의 수정, 변경과 삭제\n",
    "### 1. 리스트에서 하나의 값 수정하기\n",
    "\n",
    "```\n",
    ">>> a = [1, 2, 3]\n",
    ">>> a[2] = 4\n",
    ">>> a\n",
    "```"
   ]
  },
  {
   "cell_type": "code",
   "execution_count": null,
   "metadata": {},
   "outputs": [],
   "source": []
  },
  {
   "cell_type": "markdown",
   "metadata": {},
   "source": [
    "### 2. 리스트에서 연속된 범위의 값 수정하기\n",
    "\n",
    "```\n",
    ">>> a[1:2]\n",
    ">>> a[1:2] = ['a', 'b', 'c']\n",
    ">>> a\n",
    "```"
   ]
  },
  {
   "cell_type": "code",
   "execution_count": null,
   "metadata": {},
   "outputs": [],
   "source": []
  },
  {
   "cell_type": "markdown",
   "metadata": {},
   "source": [
    "### 3. [] 사용해 리스트 요소 삭제하기\n",
    "```\n",
    ">>> a[1:3] = [ ]\n",
    ">>> a\n",
    "```"
   ]
  },
  {
   "cell_type": "code",
   "execution_count": null,
   "metadata": {},
   "outputs": [],
   "source": []
  },
  {
   "cell_type": "markdown",
   "metadata": {},
   "source": [
    "### 4. del 함수 사용해 리스트 요소 삭제하기\n",
    "```\n",
    ">>> del a[1]\n",
    "```"
   ]
  },
  {
   "cell_type": "code",
   "execution_count": null,
   "metadata": {},
   "outputs": [],
   "source": []
  },
  {
   "cell_type": "markdown",
   "metadata": {},
   "source": [
    "# 리스트 관련 함수들\n",
    "### 1. 리스트에 요소 추가 (append)\n",
    "리스트의 맨 마지막에 요소를 추가시키는 함수\n",
    "\n",
    "```\n",
    ">>> a = [1, 2, 3]\n",
    ">>> a.append(4)\n",
    "```"
   ]
  },
  {
   "cell_type": "code",
   "execution_count": null,
   "metadata": {},
   "outputs": [],
   "source": []
  },
  {
   "cell_type": "markdown",
   "metadata": {},
   "source": [
    "```\n",
    ">>> a.append([5,6])\n",
    "```"
   ]
  },
  {
   "cell_type": "code",
   "execution_count": null,
   "metadata": {},
   "outputs": [],
   "source": []
  },
  {
   "cell_type": "markdown",
   "metadata": {},
   "source": [
    "### 2. 리스트 정렬 (sort)\n",
    "리스트의 요소를 순서대로 정렬\n",
    "\n",
    "```\n",
    ">>> a = [1, 4, 3, 2]\n",
    ">>> a.sort()\n",
    "```"
   ]
  },
  {
   "cell_type": "code",
   "execution_count": null,
   "metadata": {},
   "outputs": [],
   "source": []
  },
  {
   "cell_type": "markdown",
   "metadata": {},
   "source": [
    "```\n",
    ">>> a = ['a', 'c', 'b']\n",
    ">>> a.sort()\n",
    "```"
   ]
  },
  {
   "cell_type": "code",
   "execution_count": null,
   "metadata": {},
   "outputs": [],
   "source": []
  },
  {
   "cell_type": "markdown",
   "metadata": {},
   "source": [
    "### 3. 리스트 뒤집기 (reverse)\n",
    "리스트를 거꾸로 뒤집기\n",
    "\n",
    "```\n",
    ">>> a = ['a', 'c', 'b']\n",
    ">>> a.reverse()\n",
    "```"
   ]
  },
  {
   "cell_type": "code",
   "execution_count": null,
   "metadata": {},
   "outputs": [],
   "source": []
  },
  {
   "cell_type": "markdown",
   "metadata": {},
   "source": [
    "### 4. 위치 반환 (index)\n",
    "```\n",
    ">>> a = [1,2,3]\n",
    ">>> a.index(3)\n",
    ">>> a.index(1)\n",
    ">>> a.index(0)\n",
    "```"
   ]
  },
  {
   "cell_type": "code",
   "execution_count": null,
   "metadata": {},
   "outputs": [],
   "source": []
  },
  {
   "cell_type": "markdown",
   "metadata": {},
   "source": [
    "### 5. 리스트에 요소 삽입 (insert)\n",
    "insert(a, b)는 리스트의 a번째 위치에 b를 삽입하는 함수\n",
    "\n",
    "```\n",
    ">>> a = [1, 2, 3]\n",
    ">>> a.insert(0, 4)\n",
    ">>> a.insert(3, 5)\n",
    "```"
   ]
  },
  {
   "cell_type": "code",
   "execution_count": null,
   "metadata": {},
   "outputs": [],
   "source": []
  },
  {
   "cell_type": "markdown",
   "metadata": {},
   "source": [
    "### 6. 리스트 요소 제거 (remove)\n",
    "remove(x)는 리스트에서 첫 번째로 나오는 x를 삭제하는 함수\n",
    "\n",
    "```\n",
    ">>> a = [1, 2, 3, 1, 2, 3]\n",
    ">>> a.remove(3)\n",
    ">>> a.remove(3)\n",
    "```"
   ]
  },
  {
   "cell_type": "code",
   "execution_count": null,
   "metadata": {},
   "outputs": [],
   "source": []
  },
  {
   "cell_type": "markdown",
   "metadata": {},
   "source": [
    "### 7. 리스트 요소 꺼내기 (pop)\n",
    "pop()은 리스트의 맨 마지막 요소를 return 하고 해당 요소는 리스트에서 삭제하는 함수\n",
    "```\n",
    ">>> a = [1,2,3]\n",
    ">>> a.pop()\n",
    "```"
   ]
  },
  {
   "cell_type": "code",
   "execution_count": null,
   "metadata": {},
   "outputs": [],
   "source": []
  },
  {
   "cell_type": "markdown",
   "metadata": {},
   "source": [
    "```\n",
    ">>> a = [1,2,3]\n",
    ">>> a.pop(1)\n",
    "```"
   ]
  },
  {
   "cell_type": "code",
   "execution_count": null,
   "metadata": {},
   "outputs": [],
   "source": []
  },
  {
   "cell_type": "markdown",
   "metadata": {},
   "source": [
    "### 8. 리스트에 포함된 요소 x의 개수 세기 (count)\n",
    "count(x)는 리스트 내에 x가 몇 개 있는지 조사하여 그 개수를 return 하는 함수\n",
    "```\n",
    ">>> a = [1,2,3,1]\n",
    ">>> a.count(1)\n",
    "```\n"
   ]
  },
  {
   "cell_type": "code",
   "execution_count": null,
   "metadata": {},
   "outputs": [],
   "source": []
  },
  {
   "cell_type": "markdown",
   "metadata": {},
   "source": [
    "# 마무리\n",
    "### 1. 리스트 인덱싱\n",
    "```\n",
    ">>> a = ['Life', 'is', 'too', 'short', 'you', 'need', 'python']\n",
    "```\n",
    "리스트 a를 이용해서 \"you too\" 문자열을 출력하세요"
   ]
  },
  {
   "cell_type": "code",
   "execution_count": null,
   "metadata": {},
   "outputs": [],
   "source": []
  },
  {
   "cell_type": "markdown",
   "metadata": {},
   "source": [
    "### 2. 리스트 조인\n",
    "['Life', 'is', 'too', 'short'] 라는 리스트를 Life is too short라는 문자열로 만들어 출력해 보세요"
   ]
  },
  {
   "cell_type": "code",
   "execution_count": null,
   "metadata": {},
   "outputs": [],
   "source": []
  },
  {
   "cell_type": "markdown",
   "metadata": {},
   "source": [
    "### 3. 리스트의 갯수\n",
    "```\n",
    "a = [1,2,3]\n",
    "```\n",
    "리스트의 갯수(사이즈)를 구하세요\n"
   ]
  },
  {
   "cell_type": "code",
   "execution_count": null,
   "metadata": {},
   "outputs": [],
   "source": []
  },
  {
   "cell_type": "markdown",
   "metadata": {},
   "source": [
    "### 4. 리스트 정렬\n",
    "[1, 3, 5, 4, 2]라는 리스트를 [5, 4, 3, 2, 1]로 만들어보세요. (힌트. sort, reverse)"
   ]
  },
  {
   "cell_type": "code",
   "execution_count": null,
   "metadata": {},
   "outputs": [],
   "source": []
  },
  {
   "cell_type": "markdown",
   "metadata": {},
   "source": [
    "### 5. 리스트 삭제\n",
    "[1, 2, 3, 4, 5]라는 리스트를 [1, 3, 5]로 만들어 보세요"
   ]
  },
  {
   "cell_type": "code",
   "execution_count": null,
   "metadata": {},
   "outputs": [],
   "source": []
  }
 ],
 "metadata": {
  "kernelspec": {
   "display_name": "Python 3",
   "language": "python",
   "name": "python3"
  },
  "language_info": {
   "codemirror_mode": {
    "name": "ipython",
    "version": 3
   },
   "file_extension": ".py",
   "mimetype": "text/x-python",
   "name": "python",
   "nbconvert_exporter": "python",
   "pygments_lexer": "ipython3",
   "version": "3.6.5"
  }
 },
 "nbformat": 4,
 "nbformat_minor": 2
}
