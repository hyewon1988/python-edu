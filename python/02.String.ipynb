{
 "cells": [
  {
   "cell_type": "markdown",
   "metadata": {},
   "source": [
    "# 문자열 연산"
   ]
  },
  {
   "cell_type": "markdown",
   "metadata": {},
   "source": [
    "### 1. 문자열 더해서 연결하기 (Concatenation)\n",
    "\n",
    "```\n",
    ">>> head = \"Python\"\n",
    ">>> tail = \" is fun!\"\n",
    ">>> head + tail\n",
    "```"
   ]
  },
  {
   "cell_type": "code",
   "execution_count": null,
   "metadata": {},
   "outputs": [],
   "source": []
  },
  {
   "cell_type": "markdown",
   "metadata": {},
   "source": [
    "### 2. 문자열 곱하기\n",
    "\n",
    "```\n",
    ">>> a = \"python\"\n",
    ">>> a * 2\n",
    "```"
   ]
  },
  {
   "cell_type": "code",
   "execution_count": null,
   "metadata": {},
   "outputs": [],
   "source": []
  },
  {
   "cell_type": "markdown",
   "metadata": {},
   "source": [
    "### 3. 문자열 곱하기 응용\n",
    "\n",
    "```\n",
    "print (\"=\" * 50)\n",
    "print (\"My Program\")\n",
    "print (\"=\" * 50)\n",
    "```"
   ]
  },
  {
   "cell_type": "code",
   "execution_count": null,
   "metadata": {},
   "outputs": [],
   "source": []
  },
  {
   "cell_type": "markdown",
   "metadata": {},
   "source": [
    "# 문자열 인덱싱과 슬라이싱"
   ]
  },
  {
   "cell_type": "markdown",
   "metadata": {},
   "source": [
    "### 1. 문자열 인덱싱\n",
    "\n",
    "``` \n",
    "인덱싱 : 무엇인가를 \"가리킨다\"\n",
    "\n",
    "Life is too short, You need Python\n",
    "0         1         2         3 \n",
    "0123456789012345678901234567890123\n",
    "\n",
    ">>> a = \"Life is too short, You need Python\"\n",
    ">>> a[3]\n",
    ">>> a[-1]\n",
    ">>> a[-0]\n",
    "```"
   ]
  },
  {
   "cell_type": "code",
   "execution_count": null,
   "metadata": {},
   "outputs": [],
   "source": []
  },
  {
   "cell_type": "markdown",
   "metadata": {},
   "source": [
    "### 2. 문자열 슬라이싱\n",
    "\n",
    "```\n",
    "슬라이싱 : 무엇인가를 \"잘라낸다\"\n",
    "한 문자만을 뽑아내는 것이 아니라 단어들을 뽑아낼 수는 없을까?\n",
    "\n",
    ">>> a = \"Life is too short, You need Python\"\n",
    ">>> b = a[0] + a[1] + a[2] + a[3]\n",
    ">>> b\n",
    "```"
   ]
  },
  {
   "cell_type": "code",
   "execution_count": null,
   "metadata": {},
   "outputs": [],
   "source": []
  },
  {
   "cell_type": "markdown",
   "metadata": {},
   "source": [
    "```\n",
    ">>> a = \"Life is too short, You need Python\"\n",
    ">>> a[0:4]\n",
    "```"
   ]
  },
  {
   "cell_type": "code",
   "execution_count": null,
   "metadata": {},
   "outputs": [],
   "source": []
  },
  {
   "cell_type": "markdown",
   "metadata": {},
   "source": [
    "```\n",
    ">>> a = \"Life is too short, You need Python\"\n",
    ">>> a[19:]\n",
    ">>> a[:17]\n",
    ">>> a[:]\n",
    ">>> a[19:-7]\n",
    "```"
   ]
  },
  {
   "cell_type": "code",
   "execution_count": null,
   "metadata": {},
   "outputs": [],
   "source": []
  },
  {
   "cell_type": "markdown",
   "metadata": {},
   "source": [
    "### 3. 슬라이싱으로 문자열 나누기\n",
    "\n",
    "```\n",
    ">>> a = \"20180501Sunny\"\n",
    ">>> date = a[:8]\n",
    ">>> weather = a[8:]\n",
    ">>> date\n",
    ">>> weather\n",
    "```"
   ]
  },
  {
   "cell_type": "code",
   "execution_count": null,
   "metadata": {},
   "outputs": [],
   "source": []
  },
  {
   "cell_type": "markdown",
   "metadata": {},
   "source": [
    "# 문자열 Formatting\n",
    "\n",
    "### 1. 숫자 바로 대입\n",
    "\n",
    "```\n",
    ">>> \"I eat %d apples.\" % 3\n",
    "```"
   ]
  },
  {
   "cell_type": "code",
   "execution_count": null,
   "metadata": {},
   "outputs": [],
   "source": []
  },
  {
   "cell_type": "markdown",
   "metadata": {},
   "source": [
    "### 2. 문자열 바로 대입\n",
    "```\n",
    ">>> \"I eat %s apples.\" % \"five\"\n",
    "```"
   ]
  },
  {
   "cell_type": "code",
   "execution_count": null,
   "metadata": {},
   "outputs": [],
   "source": []
  },
  {
   "cell_type": "markdown",
   "metadata": {},
   "source": [
    "### 3. 숫자 값을 나타내는 변수로 대입\n",
    "```\n",
    ">>> number = 3\n",
    ">>> \"I eat %d apples.\" % number\n",
    "```\n"
   ]
  },
  {
   "cell_type": "code",
   "execution_count": null,
   "metadata": {},
   "outputs": [],
   "source": []
  },
  {
   "cell_type": "markdown",
   "metadata": {},
   "source": [
    "### 4. 2개 이상의 값 넣기\n",
    "\n",
    "```\n",
    ">>> number = 10\n",
    ">>> day = \"three\"\n",
    ">>> \"I ate %d apples. so I was sick for %s days.\" % (number, day)\n",
    "```"
   ]
  },
  {
   "cell_type": "code",
   "execution_count": null,
   "metadata": {},
   "outputs": [],
   "source": []
  },
  {
   "cell_type": "markdown",
   "metadata": {},
   "source": [
    "# 문자열 관련 함수들"
   ]
  },
  {
   "cell_type": "markdown",
   "metadata": {},
   "source": [
    "### 1. 문자 개수 세기(count)\n",
    "```\n",
    ">>> a = \"hobby\"\n",
    ">>> a.count('b')\n",
    "```\n"
   ]
  },
  {
   "cell_type": "code",
   "execution_count": null,
   "metadata": {},
   "outputs": [],
   "source": []
  },
  {
   "cell_type": "markdown",
   "metadata": {},
   "source": [
    "### 2. 위치 알려주기 1 (find)\n",
    "\n",
    "```\n",
    ">>> a = \"Python is best choice\"\n",
    ">>> a.find('b')\n",
    ">>> a.find('k')\n",
    "```"
   ]
  },
  {
   "cell_type": "code",
   "execution_count": null,
   "metadata": {},
   "outputs": [],
   "source": []
  },
  {
   "cell_type": "markdown",
   "metadata": {},
   "source": [
    "### 3. 위치 알려주기 2 (index)\n",
    "\n",
    "```\n",
    ">>> a = \"Life is too short\"\n",
    ">>> a.index('t')\n",
    ">>> a.index('k')\n",
    "```"
   ]
  },
  {
   "cell_type": "code",
   "execution_count": null,
   "metadata": {},
   "outputs": [],
   "source": []
  },
  {
   "cell_type": "markdown",
   "metadata": {},
   "source": [
    "### 4. 문자열 삽입 (join)\n",
    "```\n",
    ">>> a= \",\"\n",
    ">>> a.join('abcd')\n",
    "```"
   ]
  },
  {
   "cell_type": "code",
   "execution_count": null,
   "metadata": {},
   "outputs": [],
   "source": []
  },
  {
   "cell_type": "markdown",
   "metadata": {},
   "source": [
    "### 5. 왼쪽 공백 지우기 (lstrip)\n",
    "```\n",
    ">>> a = \" hi \"\n",
    ">>> a.lstrip()\n",
    "```"
   ]
  },
  {
   "cell_type": "code",
   "execution_count": null,
   "metadata": {},
   "outputs": [],
   "source": []
  },
  {
   "cell_type": "markdown",
   "metadata": {},
   "source": [
    "### 6. 오른쪽 공백 지우기(rstrip)\n",
    "```\n",
    ">>> a= \" hi \"\n",
    ">>> a.rstrip()\n",
    "```"
   ]
  },
  {
   "cell_type": "code",
   "execution_count": null,
   "metadata": {},
   "outputs": [],
   "source": []
  },
  {
   "cell_type": "markdown",
   "metadata": {},
   "source": [
    "### 7. 양쪽 공백 지우기 (strip)\n",
    "```\n",
    ">>> a = \" hi \"\n",
    ">>> a.strip()\n",
    "```"
   ]
  },
  {
   "cell_type": "code",
   "execution_count": null,
   "metadata": {},
   "outputs": [],
   "source": []
  },
  {
   "cell_type": "markdown",
   "metadata": {},
   "source": [
    "### 8. 문자열 바꾸기 (replace)\n",
    "```\n",
    ">>> a = \"Life is too short\"\n",
    ">>> a.replace(\"Life\", \"Your leg\")\n",
    "```"
   ]
  },
  {
   "cell_type": "code",
   "execution_count": null,
   "metadata": {},
   "outputs": [],
   "source": []
  },
  {
   "cell_type": "markdown",
   "metadata": {},
   "source": [
    "### 9. 문자열 나누기(split)\n",
    "\n",
    "```\n",
    ">>> a = \"Life is too short\"\n",
    ">>> a.split()\n",
    "```"
   ]
  },
  {
   "cell_type": "code",
   "execution_count": null,
   "metadata": {},
   "outputs": [],
   "source": []
  },
  {
   "cell_type": "markdown",
   "metadata": {},
   "source": [
    "```\n",
    ">>> a = \"a:b:c:d\"\n",
    ">>> a.split(':')\n",
    "```"
   ]
  },
  {
   "cell_type": "code",
   "execution_count": null,
   "metadata": {},
   "outputs": [],
   "source": []
  },
  {
   "cell_type": "markdown",
   "metadata": {},
   "source": [
    "# 마무리\n",
    "\n",
    "### 1. 문자열 나누기\n",
    "social_number(주민번호)를 연월일(yyyymmdd) 부분과 그 뒤의 숫자 부분으로 나누어 출력해보세요\n",
    "```\n",
    ">>> social_number = 180501-2483859\n",
    ">>> yyyymmdd = \n",
    ">>> num = \n",
    ">>> print (yyyymmdd)\n",
    ">>> print (num)\n",
    "```"
   ]
  },
  {
   "cell_type": "code",
   "execution_count": null,
   "metadata": {},
   "outputs": [],
   "source": []
  },
  {
   "cell_type": "markdown",
   "metadata": {},
   "source": [
    "### 2. 문자열 인덱싱\n",
    "주민번호 뒷자리의 맨 첫 번째 숫자는 성별을 나타냅니다. 주민번호에서 성별을 나타내는 숫자를 출력해보세요\n",
    "\n",
    "```\n",
    ">>> social_number = 180501-2483859\n",
    ">>> print (social_number[])\n",
    "```"
   ]
  },
  {
   "cell_type": "code",
   "execution_count": null,
   "metadata": {},
   "outputs": [],
   "source": []
  },
  {
   "cell_type": "markdown",
   "metadata": {},
   "source": [
    "### 3. 문자열 변경\n",
    "a = \"2018M0501\" 이라는 문자열이 있습니다. M20180501로 변경하여 출력해보세요\n",
    "\n",
    "```\n",
    ">>> a = \"2018M0501\"\n",
    ">>> first = a[]\n",
    ">>> middle = a[]\n",
    ">>> last = a[]\n",
    ">>> print (middle + first + last)\n",
    "```"
   ]
  },
  {
   "cell_type": "code",
   "execution_count": null,
   "metadata": {},
   "outputs": [],
   "source": []
  },
  {
   "cell_type": "markdown",
   "metadata": {},
   "source": [
    "### 4. 문자열 찾기\n",
    "a = \"Life is too short, you need python\" 문자열 에서 \"short\"라는 문자열이 시작되는 인덱스를 구하세요.\n",
    "\n",
    "```\n",
    ">>> a = \"Life is too short, you need python\"\n",
    ">>>\n",
    "```"
   ]
  },
  {
   "cell_type": "code",
   "execution_count": null,
   "metadata": {},
   "outputs": [],
   "source": []
  },
  {
   "cell_type": "markdown",
   "metadata": {},
   "source": [
    "### 5. 문자열 바꾸기\n",
    "a = \"a:b:c:d\" 문자열을 replace 함수를 이용해서 \"a#\"b#c#d\" 로 고쳐보세요.\n",
    "```\n",
    ">>> a = \"a:b:c:d\"\n",
    ">>>\n",
    "```"
   ]
  },
  {
   "cell_type": "code",
   "execution_count": null,
   "metadata": {},
   "outputs": [],
   "source": []
  }
 ],
 "metadata": {
  "kernelspec": {
   "display_name": "Python 3",
   "language": "python",
   "name": "python3"
  },
  "language_info": {
   "codemirror_mode": {
    "name": "ipython",
    "version": 3
   },
   "file_extension": ".py",
   "mimetype": "text/x-python",
   "name": "python",
   "nbconvert_exporter": "python",
   "pygments_lexer": "ipython3",
   "version": "3.6.5"
  }
 },
 "nbformat": 4,
 "nbformat_minor": 2
}
