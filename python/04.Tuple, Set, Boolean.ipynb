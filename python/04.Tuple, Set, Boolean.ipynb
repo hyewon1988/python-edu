{
 "cells": [
  {
   "cell_type": "markdown",
   "metadata": {},
   "source": [
    "# Tuple 자료형\n",
    "\n",
    "```\n",
    "리스트 : [], 튜플 : ()\n",
    "리스트는 삭제, 수정이 가능하지만 튜플은 불가능함\n",
    "\n",
    ">>> t1 = ()\n",
    ">>> t2 = (1,)\n",
    ">>> t3 = (1, 2, 3)\n",
    ">>> t4 = 1, 2, 3\n",
    ">>> t5 = ('a', 'b', ('ab', 'cd'))\n",
    "```"
   ]
  },
  {
   "cell_type": "code",
   "execution_count": null,
   "metadata": {
    "collapsed": true
   },
   "outputs": [],
   "source": []
  },
  {
   "cell_type": "markdown",
   "metadata": {},
   "source": [
    "```\n",
    "튜플의 값은 한 번 정하면 지우거나 변경할 수 없다.\n",
    "\n",
    ">>> t1 = (1, 2, 'a', 'b')\n",
    ">>> del t1[0]\n",
    "\n",
    ">>> t1 = (1, 2, 'a', 'b')\n",
    ">>> t1[0] = 'c'\n",
    "```"
   ]
  },
  {
   "cell_type": "code",
   "execution_count": null,
   "metadata": {
    "collapsed": true
   },
   "outputs": [],
   "source": []
  },
  {
   "cell_type": "markdown",
   "metadata": {},
   "source": [
    "```\n",
    "튜플은 값을 변경할 수 없다는 점만 제외하면 리스트와 동일하게 사용할 수 있다.\n",
    "```\n",
    "### 1. 인덱싱하기\n",
    "```\n",
    ">>> t1 = (1, 2, 'a', 'b')\n",
    ">>> t1[0]\n",
    ">>> t1[3]\n",
    "```"
   ]
  },
  {
   "cell_type": "code",
   "execution_count": null,
   "metadata": {
    "collapsed": true
   },
   "outputs": [],
   "source": []
  },
  {
   "cell_type": "markdown",
   "metadata": {},
   "source": [
    "### 2. 슬라이싱 하기\n",
    "```\n",
    ">>> t1 = (1, 2, 'a', 'b')\n",
    ">>> t1[1:]\n",
    "```"
   ]
  },
  {
   "cell_type": "code",
   "execution_count": null,
   "metadata": {
    "collapsed": true
   },
   "outputs": [],
   "source": []
  },
  {
   "cell_type": "markdown",
   "metadata": {},
   "source": [
    "### 3. 튜플 더하기\n",
    "```\n",
    ">>> t2 = (3, 4)\n",
    ">>> t1 + t2\n",
    "```"
   ]
  },
  {
   "cell_type": "code",
   "execution_count": null,
   "metadata": {
    "collapsed": true
   },
   "outputs": [],
   "source": []
  },
  {
   "cell_type": "markdown",
   "metadata": {},
   "source": [
    "### 4. 튜플 곱하기\n",
    "\n",
    "```\n",
    ">>> t2 = (3, 4)\n",
    ">>> t2 * 3\n",
    "```"
   ]
  },
  {
   "cell_type": "code",
   "execution_count": null,
   "metadata": {
    "collapsed": true
   },
   "outputs": [],
   "source": []
  },
  {
   "cell_type": "markdown",
   "metadata": {},
   "source": [
    "# Set(집합) 자료형\n",
    "\n",
    "```\n",
    "Set(집합) 만드는 방법 : set 키워드\n",
    "\n",
    ">>> s1 = set([1,2,3])\n",
    ">>> s1\n",
    ">>> s2 = set(\"Hello\")\n",
    ">>> s2\n",
    "```"
   ]
  },
  {
   "cell_type": "code",
   "execution_count": null,
   "metadata": {
    "collapsed": true
   },
   "outputs": [],
   "source": []
  },
  {
   "cell_type": "markdown",
   "metadata": {},
   "source": [
    "## Set(집합)의 특징\n",
    "```\n",
    "* 중복을 허용하지 않는다\n",
    "* 순서가 없다 (Unordered) -> 인덱싱을 이용한 Access 불가능\n",
    "* set에 저장된 값을 인덱싱을 이용하여 접근하고 싶다면? -> 리스트나 튜플로 변환 후 사용\n",
    "* 중복을 제거하기 위한 필터 역할로 많이 사용된다\n",
    "\n",
    ">>> s1 = set([1,2,3])\n",
    ">>> l1 = list(s1)\n",
    ">>> l1\n",
    "\n",
    ">>> l1[0]\n",
    "\n",
    ">>> t1 = tuple(s1)\n",
    ">>> t1\n",
    "\n",
    ">>> t1[0]\n",
    "\n",
    "```"
   ]
  },
  {
   "cell_type": "code",
   "execution_count": null,
   "metadata": {
    "collapsed": true
   },
   "outputs": [],
   "source": []
  },
  {
   "cell_type": "markdown",
   "metadata": {},
   "source": [
    "## Set(집합) 활용: 교집합, 합집합, 차집합\n",
    "\n",
    "```\n",
    ">>> s1 = set([1, 2, 3, 4, 5, 6])\n",
    ">>> s2 = set([4, 5, 6, 7, 8, 9])\n",
    "\n",
    "#교집합\n",
    ">>> s1 & s2\n",
    ">>> s1.intersection(s2)\n",
    "\n",
    "#합집합\n",
    ">>> s1 | s2\n",
    ">>> s1.union(s2)\n",
    "\n",
    "#차집합\n",
    ">>> s1 - s2\n",
    ">>> s2 - s1\n",
    ">>> s1.difference(s2)\n",
    ">>> s2.difference(s1)\n",
    "```"
   ]
  },
  {
   "cell_type": "code",
   "execution_count": null,
   "metadata": {
    "collapsed": true
   },
   "outputs": [],
   "source": []
  },
  {
   "cell_type": "markdown",
   "metadata": {},
   "source": [
    "## Set(집합) 관련 함수\n",
    "### 1. 값 1개 추가하기 (add)\n",
    "\n",
    "```\n",
    "값 1개 추가하기\n",
    ">>> s1 = set([1, 2, 3])\n",
    ">>> s1.add(4)\n",
    ">>> s1\n",
    "```"
   ]
  },
  {
   "cell_type": "code",
   "execution_count": null,
   "metadata": {
    "collapsed": true
   },
   "outputs": [],
   "source": []
  },
  {
   "cell_type": "markdown",
   "metadata": {},
   "source": [
    "### 2. 값 여러 개 추가하기 (update)\n",
    "```\n",
    ">>> s1 = set([1, 2, 3])\n",
    ">>> s1.update([4, 5, 6])\n",
    ">>> s1\n",
    "```"
   ]
  },
  {
   "cell_type": "code",
   "execution_count": null,
   "metadata": {
    "collapsed": true
   },
   "outputs": [],
   "source": []
  },
  {
   "cell_type": "markdown",
   "metadata": {},
   "source": [
    "### 3. 특정 값 제거하기 (remove)\n",
    "```\n",
    ">>> s1 = set([1, 2, 3])\n",
    ">>> s1.remove(2)\n",
    ">>> s1\n",
    "```"
   ]
  },
  {
   "cell_type": "code",
   "execution_count": null,
   "metadata": {
    "collapsed": true
   },
   "outputs": [],
   "source": []
  },
  {
   "cell_type": "markdown",
   "metadata": {},
   "source": [
    "# Boolean 자료형\n",
    "```\n",
    "참과 거짓을 나타내는 자료형\n",
    "True : 참\n",
    "False : 거짓\n",
    "\n",
    ">>> a = True\n",
    ">>> b = False\n",
    ">>> 1 == 1\n",
    ">>> 2 > 1\n",
    ">>> 2 < 1\n",
    "```"
   ]
  },
  {
   "cell_type": "code",
   "execution_count": null,
   "metadata": {
    "collapsed": true
   },
   "outputs": [],
   "source": []
  },
  {
   "cell_type": "markdown",
   "metadata": {},
   "source": [
    "### 자료형의 참과 거짓\n",
    "\n",
    "```\n",
    "True : \"Boolean\"\n",
    "False : \"\"\n",
    "\n",
    "True : [1,2,3]\n",
    "False : [], (), {}\n",
    "\n",
    "True : 1\n",
    "False : 0\n",
    "```"
   ]
  },
  {
   "cell_type": "code",
   "execution_count": null,
   "metadata": {
    "collapsed": true
   },
   "outputs": [],
   "source": []
  },
  {
   "cell_type": "markdown",
   "metadata": {},
   "source": [
    "```\n",
    "코드를 이해해 보기\n",
    ">>> a = [1, 2, 3, 4]\n",
    ">>> while a:\n",
    "...     print(a.pop())\n",
    "```\n"
   ]
  },
  {
   "cell_type": "code",
   "execution_count": null,
   "metadata": {
    "collapsed": true
   },
   "outputs": [],
   "source": []
  },
  {
   "cell_type": "markdown",
   "metadata": {},
   "source": [
    "# 마무리\n",
    "### 1. 튜플 추가\n",
    "(1, 2) 라는 튜플에 5 를 추가하여 (1, 2, 5)를 만들어보세요."
   ]
  },
  {
   "cell_type": "code",
   "execution_count": null,
   "metadata": {
    "collapsed": true
   },
   "outputs": [],
   "source": []
  },
  {
   "cell_type": "markdown",
   "metadata": {},
   "source": [
    "### 2. 집합 만들기\n",
    "[1, 2, 3]이라는 리스트를 집합으로 만들어보세요"
   ]
  },
  {
   "cell_type": "code",
   "execution_count": null,
   "metadata": {
    "collapsed": true
   },
   "outputs": [],
   "source": []
  },
  {
   "cell_type": "markdown",
   "metadata": {},
   "source": [
    "### 3. 집합의 중복\n",
    "```\n",
    "a = ['q', 'q', 'q', 'u', 'u', 'u', 'u', 'i', 'i', 'i', 'z', 'z', 'z'] \n",
    "a 리스트에서 중복을 제거하여 ['q', 'u', 'i', 'z'] 로 만들어보세요\n",
    "```"
   ]
  },
  {
   "cell_type": "code",
   "execution_count": null,
   "metadata": {
    "collapsed": true
   },
   "outputs": [],
   "source": []
  },
  {
   "cell_type": "markdown",
   "metadata": {},
   "source": [
    "### 4. 참/거짓 예측해보기\n",
    "```\n",
    ">>> 1 != 1\n",
    ">>> 3 > 1\n",
    ">>> 'a' in 'abc'\n",
    ">>> 'a' not in [1, 2, 3]\n",
    "```"
   ]
  },
  {
   "cell_type": "code",
   "execution_count": null,
   "metadata": {
    "collapsed": true
   },
   "outputs": [],
   "source": []
  },
  {
   "cell_type": "markdown",
   "metadata": {},
   "source": [
    "### 5. 참/거짓 예측해보기2\n",
    "```\n",
    ">>> a = \"python\"\n",
    ">>> b = \"\"\n",
    ">>> c = (1,2,3)\n",
    ">>> d = 0\n",
    "```"
   ]
  },
  {
   "cell_type": "code",
   "execution_count": null,
   "metadata": {
    "collapsed": true
   },
   "outputs": [],
   "source": []
  }
 ],
 "metadata": {
  "kernelspec": {
   "display_name": "Python 3",
   "language": "python",
   "name": "python3"
  },
  "language_info": {
   "codemirror_mode": {
    "name": "ipython",
    "version": 3
   },
   "file_extension": ".py",
   "mimetype": "text/x-python",
   "name": "python",
   "nbconvert_exporter": "python",
   "pygments_lexer": "ipython3",
   "version": "3.6.2"
  }
 },
 "nbformat": 4,
 "nbformat_minor": 2
}
