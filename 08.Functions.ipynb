{
 "cells": [
  {
   "cell_type": "markdown",
   "metadata": {},
   "source": [
    "# 함수 (Functions)\n",
    "\n",
    "```\n",
    "일정한 작업을 수행하는 코드 블럭\n",
    "반복적으로 계속 사용되는 코드들을 함수로 정의하여 사용함\n",
    "```\n",
    "## 기본 구조\n",
    "```\n",
    "def 함수명(입력 파라미터):\n",
    "    수행 할 문장1\n",
    "    수행 할 문장2\n",
    "    [return 리턴 값]\n",
    "    \n",
    "예  > 두개의 입력 파라미터를 받고 이를 더한 값을 리턴하는 함수\n",
    "\n",
    ">>> def sum(a, b):\n",
    "...    s = a + b\n",
    "...    return s\n",
    ">>> total = sum(3, 5)\n",
    ">> print (total)\n",
    "\n",
    "용어 >\n",
    "* parameter : 함수에 입력으로 전달된 값을 받는 변수 (a, b는 parameter)\n",
    "* argument : 함수를 호출할 때 전달하는 입력 값 (3, 5는 argument)\n",
    "    \n",
    "```"
   ]
  },
  {
   "cell_type": "code",
   "execution_count": null,
   "metadata": {
    "collapsed": true
   },
   "outputs": [],
   "source": []
  },
  {
   "cell_type": "markdown",
   "metadata": {},
   "source": [
    "## 입, 출력 값에 따른 함수의 형태\n",
    "\n",
    "```\n",
    "함수는 들어온 입력값을 받아 어떤 처리를 하여 적절한 결과값을 돌려줌\n",
    "입력 값, 리턴 값의 존재 유무에 따라 4가지 유형의 함수가 있음\n",
    "```\n",
    "### 1. 입력 값 O, 리턴 값 O (일반적인 함수)\n",
    "```\n",
    "예 > 어떤 주식 종목의 전날 종가를 입력받아 상한가(30%)를 계산하고 그 값을 반환(return)하는 함수\n",
    "\n",
    "def cal_upper(price):\n",
    "    increment = price * 0.3\n",
    "    upper_price = price + increment\n",
    "    return upper_price\n",
    "    \n",
    "    \n",
    ">>> upper_price = cal_upper(1000)\n",
    ">>> print (upper_price)\n",
    "```\n"
   ]
  },
  {
   "cell_type": "code",
   "execution_count": null,
   "metadata": {
    "collapsed": true
   },
   "outputs": [],
   "source": []
  },
  {
   "cell_type": "markdown",
   "metadata": {},
   "source": [
    "```\n",
    "예 > 어떤 주식 종목의 전날 종가를 입력받아 상한가(30%)와 하한가를 한 번에 계산하고 그 값들을 반환(return)하는 함수\n",
    "\n",
    "def cal_upper_lower(price):\n",
    "    offset = price * 0.3\n",
    "    upper = price + offset\n",
    "    lower = price - offset\n",
    "    return (upper, lower)\n",
    "    \n",
    ">>> upper_price, lower_price = cal_upper_lower(1000)\n",
    ">>> print (\"상한가 %d, 하한가 %d\" % (upper_price, lower_price))\n",
    "```"
   ]
  },
  {
   "cell_type": "code",
   "execution_count": null,
   "metadata": {},
   "outputs": [],
   "source": []
  },
  {
   "cell_type": "markdown",
   "metadata": {},
   "source": [
    "### 2. 입력 값 X, 리턴 값 O \n",
    "```\n",
    "예 > \"Hi\"를 리턴하는 함수\n",
    "def say():\n",
    "    return \"Hi\"\n",
    "    \n",
    ">>> a = say()\n",
    ">>> print (a)\n",
    "```"
   ]
  },
  {
   "cell_type": "code",
   "execution_count": null,
   "metadata": {
    "collapsed": true
   },
   "outputs": [],
   "source": []
  },
  {
   "cell_type": "markdown",
   "metadata": {},
   "source": [
    "### 3. 입력 값 O, 리턴 값 X\n",
    "```\n",
    "예 > name, age를 입력 받아 'name는 age살'을 출력해주는 함수\n",
    "\n",
    "def name_and_age(name, age):\n",
    "    print (\"%s는 %d 살\" % (name, age)) \n",
    "    \n",
    ">>> name_and_age(\"goni\", 31)\n",
    "```"
   ]
  },
  {
   "cell_type": "code",
   "execution_count": null,
   "metadata": {},
   "outputs": [],
   "source": []
  },
  {
   "cell_type": "markdown",
   "metadata": {},
   "source": [
    "```\n",
    "리턴값이 정말로 없음 출력일 뿐\n",
    ">>> a = name_and_age(\"goni\", 31)\n",
    ">>> print (a)\n",
    "```"
   ]
  },
  {
   "cell_type": "code",
   "execution_count": null,
   "metadata": {
    "collapsed": true
   },
   "outputs": [],
   "source": []
  },
  {
   "cell_type": "markdown",
   "metadata": {},
   "source": [
    "```\n",
    "파라미터를 지정하여서 호출 할 수 있음\n",
    ">>> name_and_age(name=\"goni\", age=31)\n",
    "```"
   ]
  },
  {
   "cell_type": "code",
   "execution_count": null,
   "metadata": {},
   "outputs": [],
   "source": []
  },
  {
   "cell_type": "markdown",
   "metadata": {},
   "source": [
    "### 4. 입력 값 X, 리턴 값 X\n",
    "```\n",
    "예 > \"Hi\"를 출력하는 함수\n",
    "def say3():\n",
    "    print (\"Hi\")\n",
    "\n",
    ">>> say3()\n",
    "```"
   ]
  },
  {
   "cell_type": "code",
   "execution_count": null,
   "metadata": {
    "collapsed": true
   },
   "outputs": [],
   "source": []
  },
  {
   "cell_type": "markdown",
   "metadata": {},
   "source": [
    "## 입력값이 몇 개가 될지 모를 때?\n",
    "\n",
    "```\n",
    "예 > 여러 개의 입력값을 모두 더하는 함수\n",
    "parameter 앞에 *을 붙이면 입력값들을 모아서 튜플로 만들어 줍니다\n",
    "\n",
    "def sum_many(*args):\n",
    "    sum = 0\n",
    "    for i in args:\n",
    "        sum = sum + i\n",
    "    return sum\n",
    "    \n",
    ">>> result = sum_many(1,2,3)\n",
    ">>> print(result)\n",
    "6\n",
    ">>> result = sum_many(1,2,3,4,5,6,7,8,9,10)\n",
    ">>> print(result)\n",
    "55\n",
    "```"
   ]
  },
  {
   "cell_type": "code",
   "execution_count": null,
   "metadata": {
    "collapsed": true
   },
   "outputs": [],
   "source": []
  },
  {
   "cell_type": "markdown",
   "metadata": {},
   "source": [
    "# 마무리\n",
    "### 1. 주어진 자연수가 홀수인지 짝수인지 판별해 주는 함수(is_odd)를 작성해 보세요"
   ]
  },
  {
   "cell_type": "code",
   "execution_count": null,
   "metadata": {
    "collapsed": true
   },
   "outputs": [],
   "source": [
    "def is_odd(number):"
   ]
  },
  {
   "cell_type": "markdown",
   "metadata": {},
   "source": [
    "### 2. 입력으로 들어오는 모든 수의 평균값을 계산해 주는 함수를 작성해 보세요. (단, 입력으로 들어오는 수의 갯수는 정해져 있지 않다.)"
   ]
  },
  {
   "cell_type": "code",
   "execution_count": null,
   "metadata": {
    "collapsed": true
   },
   "outputs": [],
   "source": [
    "def avg_numbers(*args):"
   ]
  },
  {
   "cell_type": "markdown",
   "metadata": {},
   "source": [
    "### 3. 입력을 자연수 n(2부터 9까지의 자연수)으로 받았을 때, n에 해당되는 구구단을 출력하는 함수를 작성해 보세요."
   ]
  },
  {
   "cell_type": "code",
   "execution_count": null,
   "metadata": {
    "collapsed": true
   },
   "outputs": [],
   "source": [
    "def gugudan(n):\n",
    "    "
   ]
  }
 ],
 "metadata": {
  "kernelspec": {
   "display_name": "Python 3",
   "language": "python",
   "name": "python3"
  },
  "language_info": {
   "codemirror_mode": {
    "name": "ipython",
    "version": 3
   },
   "file_extension": ".py",
   "mimetype": "text/x-python",
   "name": "python",
   "nbconvert_exporter": "python",
   "pygments_lexer": "ipython3",
   "version": "3.6.2"
  }
 },
 "nbformat": 4,
 "nbformat_minor": 2
}
